{
 "cells": [
  {
   "cell_type": "markdown",
   "id": "020a8b5a-56d6-435a-9ce0-da28ce9f81ec",
   "metadata": {},
   "source": [
    "# Data Science and Ecosystem\n",
    "\n"
   ]
  },
  {
   "cell_type": "markdown",
   "id": "78fb0ad6-9971-4c81-88cb-79106ec3d3af",
   "metadata": {
    "tags": []
   },
   "source": [
    "In this notebook, Data Science Tools and Ecosystem are summarized.\n",
    "\n",
    "**Objectives:**\n",
    "- Python\n",
    "- R\n",
    "- Julia \n",
    "- Jupiter Notebook\n",
    "- Jupiter lab\n",
    "\n"
   ]
  },
  {
   "cell_type": "markdown",
   "id": "499948f5-aa4b-426e-9761-9c08778f5af9",
   "metadata": {},
   "source": [
    "Some of the popular languages that Data Scientists use are:\n",
    "1. Python\n",
    "2. R\n",
    "3. Julia"
   ]
  },
  {
   "cell_type": "markdown",
   "id": "62ea7b0c-5c7a-4160-aadc-69ad682bdb82",
   "metadata": {},
   "source": [
    "Some of the commonly used libraries used by Data Scientists include:\n",
    "1. Pytorch\n",
    "2. Pandas\n",
    "3. NumPy"
   ]
  },
  {
   "cell_type": "markdown",
   "id": "7293829d-8f36-4b78-a553-dcfda52c561b",
   "metadata": {},
   "source": [
    "|Data Science Tools| \n",
    "| --------------| \n",
    "| Apache Spark|\n",
    "|Tensor Flow  |\n",
    "| MongoDB|\n"
   ]
  },
  {
   "cell_type": "markdown",
   "id": "10631f74-9672-4c92-bd3f-5f0907d80264",
   "metadata": {},
   "source": [
    "### Below are a few examples of evaluating arithmetic expressions in Python:"
   ]
  },
  {
   "cell_type": "code",
   "execution_count": 2,
   "id": "38e781b0-c8fc-426c-a12a-c847dec126d3",
   "metadata": {
    "tags": []
   },
   "outputs": [
    {
     "data": {
      "text/plain": [
       "17"
      ]
     },
     "execution_count": 2,
     "metadata": {},
     "output_type": "execute_result"
    }
   ],
   "source": [
    "(3*4)+5"
   ]
  },
  {
   "cell_type": "markdown",
   "id": "7938afb3-4dbe-46de-9d52-3c8b1f4e8b95",
   "metadata": {},
   "source": [
    "This a simple arithmetic expression to mutiply then add integers"
   ]
  },
  {
   "cell_type": "code",
   "execution_count": 9,
   "id": "d1291df9-34a4-4799-b47e-58664ecec6b7",
   "metadata": {
    "tags": []
   },
   "outputs": [
    {
     "name": "stdout",
     "output_type": "stream",
     "text": [
      "3\n"
     ]
    }
   ],
   "source": [
    "min = (200)\n",
    "hours = int (min/60)\n",
    "print(hours)\n",
    "\n",
    "\n"
   ]
  },
  {
   "cell_type": "markdown",
   "id": "5ed7bcd4-dc29-4519-b08c-9d45cbe0e623",
   "metadata": {},
   "source": [
    "This will convert 200 minutes to hours by diving by 60"
   ]
  },
  {
   "cell_type": "markdown",
   "id": "a400903c-8982-4930-b2b9-62bd8b37b8bd",
   "metadata": {},
   "source": [
    "## Author's name is Umut Can"
   ]
  }
 ],
 "metadata": {
  "kernelspec": {
   "display_name": "Python",
   "language": "python",
   "name": "conda-env-python-py"
  },
  "language_info": {
   "codemirror_mode": {
    "name": "ipython",
    "version": 3
   },
   "file_extension": ".py",
   "mimetype": "text/x-python",
   "name": "python",
   "nbconvert_exporter": "python",
   "pygments_lexer": "ipython3",
   "version": "3.7.12"
  }
 },
 "nbformat": 4,
 "nbformat_minor": 5
}
